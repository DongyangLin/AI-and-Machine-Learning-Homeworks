{
 "cells": [
  {
   "cell_type": "markdown",
   "metadata": {},
   "source": [
    "# Homework 3\n",
    "12110418 庄子鲲\n",
    "### Problem 1: Write a Python program to implement the following.\n",
    "1. Declare a dictionary to store a student's information, including: name, age, grade (for a single subject), phone number, and gender (male, female, unknown).\n"
   ]
  },
  {
   "cell_type": "code",
   "execution_count": 1,
   "metadata": {},
   "outputs": [
    {
     "name": "stdout",
     "output_type": "stream",
     "text": [
      "{'Name': 'John', 'Age': 19, 'Grade': 90, 'Phone': 10068, 'Gender': 'male'}\n",
      "{'Name': 'Jack', 'Age': 18, 'Grade': 55, 'Phone': 10000, 'Gender': 'male'}\n",
      "{'Name': 'Sara', 'Age': 15, 'Grade': 58, 'Phone': 12348, 'Gender': 'female'}\n",
      "{'Name': 'Amy', 'Age': 16, 'Grade': 88, 'Phone': 12306, 'Gender': 'female'}\n",
      "{'Name': 'Janey', 'Age': 18, 'Grade': 49, 'Phone': 56789, 'Gender': 'female'}\n",
      "{'Name': 'KK', 'Age': 20, 'Grade': 99, 'Phone': 66666, 'Gender': 'unknown'}\n"
     ]
    }
   ],
   "source": [
    "# use a function to create the dictionary\n",
    "def student(name, age, grade, phone, gender):\n",
    "    return {'Name':name, 'Age':age, 'Grade':grade, 'Phone':phone, 'Gender':gender}\n",
    "# record students\n",
    "s1=student(\"John\",19,90,10068,\"male\") \n",
    "s2=student(\"Jack\",18,55,10000,\"male\") \n",
    "s3=student(\"Sara\",15,58,12348,\"female\")\n",
    "s4=student(\"Amy\",16,88,12306,\"female\")\n",
    "s5=student(\"Janey\",18,49,56789,'female')\n",
    "s6=student(\"KK\",20,99,66666,\"unknown\")\n",
    "print(s1)\n",
    "print(s2)\n",
    "print(s3)\n",
    "print(s4)\n",
    "print(s5)\n",
    "print(s6)"
   ]
  },
  {
   "cell_type": "markdown",
   "metadata": {},
   "source": [
    "2. Declare a list to store the information of 6 students (6 dictionaries from question1)\n",
    "    "
   ]
  },
  {
   "cell_type": "code",
   "execution_count": 2,
   "metadata": {},
   "outputs": [],
   "source": [
    "sts=[s1,s2,s3,s4,s5,s6] # create the list"
   ]
  },
  {
   "cell_type": "markdown",
   "metadata": {},
   "source": [
    "a. Count the number of students who failed."
   ]
  },
  {
   "cell_type": "code",
   "execution_count": 3,
   "metadata": {},
   "outputs": [
    {
     "name": "stdout",
     "output_type": "stream",
     "text": [
      "There are 3 students failed\n"
     ]
    }
   ],
   "source": [
    "f_num=0 # the counter of exam-failed students\n",
    "f_list=[] # list stores the exam-failed students\n",
    "for s in sts:\n",
    "    if s['Grade']<60:\n",
    "        f_list.append(s)\n",
    "        f_num+=1\n",
    "print(f\"There are {f_num} students failed\")"
   ]
  },
  {
   "cell_type": "markdown",
   "metadata": {},
   "source": [
    "b. Print the names and corresponding grades of the students who failed"
   ]
  },
  {
   "cell_type": "code",
   "execution_count": 4,
   "metadata": {},
   "outputs": [
    {
     "name": "stdout",
     "output_type": "stream",
     "text": [
      "Name: Jack ; Grade: 55\n",
      "Name: Sara ; Grade: 58\n",
      "Name: Janey ; Grade: 49\n"
     ]
    }
   ],
   "source": [
    "for s in f_list:\n",
    "    print (\"Name:\", s['Name'],\"; Grade:\", s['Grade'])"
   ]
  },
  {
   "cell_type": "markdown",
   "metadata": {},
   "source": [
    "c. Count the number of underage students."
   ]
  },
  {
   "cell_type": "code",
   "execution_count": 5,
   "metadata": {},
   "outputs": [
    {
     "name": "stdout",
     "output_type": "stream",
     "text": [
      "There are 2 underage students\n"
     ]
    }
   ],
   "source": [
    "u_num=0\n",
    "for s in sts:\n",
    "    if s['Age']<18:\n",
    "        u_num+=1\n",
    "print(f\"There are {u_num} underage students\")"
   ]
  },
  {
   "cell_type": "markdown",
   "metadata": {},
   "source": [
    "d. Print the names of students whose phone numbers end with8."
   ]
  },
  {
   "cell_type": "code",
   "execution_count": 6,
   "metadata": {},
   "outputs": [
    {
     "name": "stdout",
     "output_type": "stream",
     "text": [
      "Those phone number end with 8 are: \n",
      "Name: John\n",
      "Name: Sara\n"
     ]
    }
   ],
   "source": [
    "print(\"Those phone number end with 8 are: \")\n",
    "for s in sts:\n",
    "    if str(s['Phone'])[-1].__contains__('8'): # search for the phone number contains 8 at the end\n",
    "        print(\"Name:\",s['Name'])"
   ]
  },
  {
   "cell_type": "markdown",
   "metadata": {},
   "source": [
    "e. Print the highest grade and the corresponding student's name."
   ]
  },
  {
   "cell_type": "code",
   "execution_count": 7,
   "metadata": {},
   "outputs": [
    {
     "name": "stdout",
     "output_type": "stream",
     "text": [
      "The highest grade is: 99 ; Name: KK\n"
     ]
    }
   ],
   "source": [
    "grades=[] # create a list to store grades\n",
    "for s in sts:\n",
    "    grades.append(s['Grade'])\n",
    "idx=grades.index(max(grades)) # find the index of the highest grade in the list\n",
    "print(\"The highest grade is:\",sts[idx]['Grade'],\"; Name:\", sts[idx]['Name']) # print the name corresponding to the index"
   ]
  },
  {
   "cell_type": "markdown",
   "metadata": {},
   "source": [
    "f. Sort the list in descending order based on student grades."
   ]
  },
  {
   "cell_type": "code",
   "execution_count": 8,
   "metadata": {},
   "outputs": [
    {
     "name": "stdout",
     "output_type": "stream",
     "text": [
      "{'Name': 'KK', 'Age': 20, 'Grade': 99, 'Phone': 66666, 'Gender': 'unknown'}\n",
      "{'Name': 'John', 'Age': 19, 'Grade': 90, 'Phone': 10068, 'Gender': 'male'}\n",
      "{'Name': 'Amy', 'Age': 16, 'Grade': 88, 'Phone': 12306, 'Gender': 'female'}\n",
      "{'Name': 'Sara', 'Age': 15, 'Grade': 58, 'Phone': 12348, 'Gender': 'female'}\n",
      "{'Name': 'Jack', 'Age': 18, 'Grade': 55, 'Phone': 10000, 'Gender': 'male'}\n",
      "{'Name': 'Janey', 'Age': 18, 'Grade': 49, 'Phone': 56789, 'Gender': 'female'}\n"
     ]
    }
   ],
   "source": [
    "sts.sort(key=lambda dict: dict['Grade'],reverse=True) # sort the list according to Grade\n",
    "for s in sts:\n",
    "    print(s)"
   ]
  },
  {
   "cell_type": "markdown",
   "metadata": {},
   "source": [
    "g. Remove all students with an unknown gender."
   ]
  },
  {
   "cell_type": "code",
   "execution_count": 9,
   "metadata": {},
   "outputs": [
    {
     "name": "stdout",
     "output_type": "stream",
     "text": [
      "The removed student was KK\n",
      "The new list is: \n",
      "{'Name': 'John', 'Age': 19, 'Grade': 90, 'Phone': 10068, 'Gender': 'male'}\n",
      "{'Name': 'Amy', 'Age': 16, 'Grade': 88, 'Phone': 12306, 'Gender': 'female'}\n",
      "{'Name': 'Sara', 'Age': 15, 'Grade': 58, 'Phone': 12348, 'Gender': 'female'}\n",
      "{'Name': 'Jack', 'Age': 18, 'Grade': 55, 'Phone': 10000, 'Gender': 'male'}\n",
      "{'Name': 'Janey', 'Age': 18, 'Grade': 49, 'Phone': 56789, 'Gender': 'female'}\n"
     ]
    }
   ],
   "source": [
    "for s in sts:\n",
    "    if s['Gender']=='unknown': # whether its Gender is 'unknown'\n",
    "        sts.remove(s) # remove the students with unknown gender\n",
    "        print(f\"The removed student was {s['Name']}\")\n",
    "print(\"The new list is: \")\n",
    "for s in sts:\n",
    "    print(s)"
   ]
  },
  {
   "cell_type": "markdown",
   "metadata": {},
   "source": [
    "3. Use three lists to represent the names of students who have enrolled in three subjects (a student can enroll in multiple subjects)."
   ]
  },
  {
   "cell_type": "code",
   "execution_count": 10,
   "metadata": {},
   "outputs": [
    {
     "name": "stdout",
     "output_type": "stream",
     "text": [
      "['John', 'Amy', 'Sara', 'Cate']\n",
      "['Amy', 'Jack', 'Janey', 'KK']\n",
      "['John', 'Sara', 'Amy']\n"
     ]
    }
   ],
   "source": [
    "sub1=['John','Amy','Sara','Cate']\n",
    "sub2=['Amy','Jack','Janey','KK']\n",
    "sub3=['John','Sara','Amy'] # create three lists\n",
    "print(sub1)\n",
    "print(sub2)\n",
    "print(sub3)\n"
   ]
  },
  {
   "cell_type": "markdown",
   "metadata": {},
   "source": [
    "a. Determine the total number of students who have enrolled."
   ]
  },
  {
   "cell_type": "code",
   "execution_count": 11,
   "metadata": {},
   "outputs": [
    {
     "name": "stdout",
     "output_type": "stream",
     "text": [
      "There are 7 students enrolled\n"
     ]
    }
   ],
   "source": [
    "tnum=0 # store the total number\n",
    "stdnts=[] # store every students\n",
    "for s in sub1:\n",
    "    if stdnts.__contains__(s)==False: # whether the student has existed\n",
    "        stdnts.append(s)\n",
    "for s in sub2:\n",
    "    if stdnts.__contains__(s)==False:\n",
    "        stdnts.append(s)\n",
    "for s in sub3:\n",
    "    if stdnts.__contains__(s)==False:\n",
    "        stdnts.append(s)\n",
    "tnum=len(stdnts)\n",
    "print(f\"There are {tnum} students enrolled\") # print the result"
   ]
  },
  {
   "cell_type": "markdown",
   "metadata": {},
   "source": [
    "b. Determine the number and names of students who have only enrolled in the first subject."
   ]
  },
  {
   "cell_type": "code",
   "execution_count": 12,
   "metadata": {},
   "outputs": [
    {
     "name": "stdout",
     "output_type": "stream",
     "text": [
      "There are 4 students enrolled in the first subject:\n",
      "Name:  John\n",
      "Name:  Amy\n",
      "Name:  Sara\n",
      "Name:  Cate\n"
     ]
    }
   ],
   "source": [
    "num=len(sub1) # count the number of students in the first subject\n",
    "print(f\"There are {num} students enrolled in the first subject:\")\n",
    "for s in sub1:\n",
    "    print(\"Name: \",s) # print the student's name"
   ]
  },
  {
   "cell_type": "markdown",
   "metadata": {},
   "source": [
    "c. Determine the number and names of students who have only enrolled in one subject."
   ]
  },
  {
   "cell_type": "code",
   "execution_count": 13,
   "metadata": {},
   "outputs": [
    {
     "name": "stdout",
     "output_type": "stream",
     "text": [
      "Students who are only enrolled in 1 subject are: \n",
      "Cate\n",
      "Jack\n",
      "Janey\n",
      "KK\n"
     ]
    }
   ],
   "source": [
    "def stdic(name):\n",
    "    return {'Name':name,'Subnum':0} # declare a dictionary with student's name and the corresponding subject number\n",
    "sts2=[] # use a list to store the dictionaries\n",
    "for s in stdnts:\n",
    "    sts2.append(stdic(s))\n",
    "def checknumber(sub,sts):\n",
    "    for s in sub:\n",
    "        for j in sts:\n",
    "            if j['Name']==s: # whether the student is enrolled in this subject\n",
    "                j['Subnum']+=1 # update the subject number\n",
    "checknumber(sub1,sts2)\n",
    "checknumber(sub2,sts2)\n",
    "checknumber(sub3,sts2)\n",
    "print(\"Students who are only enrolled in 1 subject are: \")\n",
    "for s in sts2:\n",
    "    if s['Subnum']==1:\n",
    "        print(s['Name'])\n",
    "        \n",
    "    "
   ]
  },
  {
   "cell_type": "markdown",
   "metadata": {},
   "source": [
    "d. Determine the number and names of students who have only enrolled in two subjects."
   ]
  },
  {
   "cell_type": "code",
   "execution_count": 14,
   "metadata": {},
   "outputs": [
    {
     "name": "stdout",
     "output_type": "stream",
     "text": [
      "Students who are enrolled in 2 subjects are: \n",
      "John\n",
      "Sara\n"
     ]
    }
   ],
   "source": [
    "print(\"Students who are enrolled in 2 subjects are: \")\n",
    "for s in sts2:\n",
    "    if s['Subnum']==2: # find the student corresponding with subject number=2\n",
    "        print(s['Name'])"
   ]
  },
  {
   "cell_type": "markdown",
   "metadata": {},
   "source": [
    "### Problem 2: Write a Python program to define a function fibo(n) to calculate the Fibonacci sequence, and write test code to output the first 20 terms."
   ]
  },
  {
   "cell_type": "code",
   "execution_count": 15,
   "metadata": {},
   "outputs": [
    {
     "name": "stdout",
     "output_type": "stream",
     "text": [
      "[1, 1, 2, 3, 5, 8, 13, 21, 34, 55, 89, 144, 233, 377, 610, 987, 1597, 2584, 4181, 6765]\n"
     ]
    }
   ],
   "source": [
    "def fibo(n):\n",
    "    if n<1:\n",
    "        print(\"Invalid arguement!\") # check invalid arguements\n",
    "        return\n",
    "    lst=[0]*n\n",
    "    if n<=2:\n",
    "        for i in range(0,n):\n",
    "            lst[i]=1\n",
    "    else:\n",
    "        lst[0]=1\n",
    "        lst[1]=1\n",
    "        for i in range(2-1,n):\n",
    "            lst[i]=lst[i-1]+lst[i-2] # create Fibonacci sequence\n",
    "    return lst\n",
    "print(fibo(20)) # print the first 20 terms"
   ]
  },
  {
   "cell_type": "markdown",
   "metadata": {},
   "source": [
    "### Problem 3: Write a Python program to define a function min_num (a, b, *c) using variable parameters that calculates the minimum value among any number of values,and write test code to verify it."
   ]
  },
  {
   "cell_type": "code",
   "execution_count": 16,
   "metadata": {},
   "outputs": [
    {
     "name": "stdout",
     "output_type": "stream",
     "text": [
      "1\n",
      "-50\n"
     ]
    }
   ],
   "source": [
    "def min_num(a,b,*c):\n",
    "    minvalue1=min(a,b) # find the minimum value in a and b\n",
    "    if c: # if c is not empty\n",
    "        minvalue2=min(c) # find the minimum value in tuple c\n",
    "        minvalue=min(minvalue1,minvalue2) # find the minimum value among all inputs\n",
    "        return minvalue\n",
    "    else:\n",
    "        return minvalue1\n",
    "# test the function\n",
    "print(min_num(1,2))\n",
    "print(min_num(1,-2,3,-50,302))"
   ]
  }
 ],
 "metadata": {
  "kernelspec": {
   "display_name": "py3.11",
   "language": "python",
   "name": "python3"
  },
  "language_info": {
   "codemirror_mode": {
    "name": "ipython",
    "version": 3
   },
   "file_extension": ".py",
   "mimetype": "text/x-python",
   "name": "python",
   "nbconvert_exporter": "python",
   "pygments_lexer": "ipython3",
   "version": "3.11.4"
  },
  "orig_nbformat": 4
 },
 "nbformat": 4,
 "nbformat_minor": 2
}
