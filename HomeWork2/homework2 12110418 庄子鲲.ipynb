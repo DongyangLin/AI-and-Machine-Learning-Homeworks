{
 "cells": [
  {
   "cell_type": "markdown",
   "metadata": {},
   "source": [
    "# HomeWork 2\n",
    "12110418 庄子鲲\n",
    "## Task 1\n",
    "Write a Python program to calculate the sum of all numbers from 1 to 100 that contain the digit 8."
   ]
  },
  {
   "cell_type": "code",
   "execution_count": 58,
   "metadata": {},
   "outputs": [
    {
     "name": "stdout",
     "output_type": "stream",
     "text": [
      "1287\n"
     ]
    }
   ],
   "source": [
    "nums=list(range(1,101)) # a list contains numbers from 1 to 100\n",
    "sum=0 # store the sum\n",
    "for i in nums:\n",
    "    if str(i).__contains__('8'): # whether it contains digit 8\n",
    "        sum+=i # add up proper values\n",
    "print(sum) # print the output"
   ]
  },
  {
   "cell_type": "markdown",
   "metadata": {},
   "source": [
    "## Task 2\n",
    "Write a Python program to calculate (1+2!+3!+...+20!)."
   ]
  },
  {
   "cell_type": "code",
   "execution_count": 59,
   "metadata": {},
   "outputs": [
    {
     "name": "stdout",
     "output_type": "stream",
     "text": [
      "2561327494111820313\n"
     ]
    }
   ],
   "source": [
    "# factortial function\n",
    "def factorial(num):\n",
    "    fac=1 # store multiplication\n",
    "    for i in range(1,num+1):\n",
    "        fac*=i\n",
    "    return fac # return factorial\n",
    "\n",
    "sum_1=0 # store sum\n",
    "for i in range (1,20+1):\n",
    "    sum_1+=factorial(i) # add up factorials\n",
    "print(sum_1) # print the output"
   ]
  },
  {
   "cell_type": "markdown",
   "metadata": {},
   "source": [
    "## Task 3\n",
    "Write a Python program that determines whether the user input is a digit, a letter, or any other character."
   ]
  },
  {
   "cell_type": "code",
   "execution_count": 1,
   "metadata": {},
   "outputs": [
    {
     "name": "stdout",
     "output_type": "stream",
     "text": [
      "Your input is:  1\n",
      "This is a digit\n"
     ]
    }
   ],
   "source": [
    "a=input(\"please input a digit, a letter or a character: \")\n",
    "while len(a)!=1: # detect invalid input\n",
    "    a=input(\"This is an invalid input, please input a single digit, letter or character: \")\n",
    "print(\"Your input is: \",a)\n",
    "if str.isdigit(a):\n",
    "    print(\"This is a digit\") # whether a digit\n",
    "elif str.isalpha(a):\n",
    "    print(\"This is a letter\") # whether a letter\n",
    "else:\n",
    "    print(\"This is an other character\") # whether an other char"
   ]
  }
 ],
 "metadata": {
  "kernelspec": {
   "display_name": "py3.11",
   "language": "python",
   "name": "python3"
  },
  "language_info": {
   "codemirror_mode": {
    "name": "ipython",
    "version": 3
   },
   "file_extension": ".py",
   "mimetype": "text/x-python",
   "name": "python",
   "nbconvert_exporter": "python",
   "pygments_lexer": "ipython3",
   "version": "3.11.4"
  },
  "orig_nbformat": 4
 },
 "nbformat": 4,
 "nbformat_minor": 2
}
